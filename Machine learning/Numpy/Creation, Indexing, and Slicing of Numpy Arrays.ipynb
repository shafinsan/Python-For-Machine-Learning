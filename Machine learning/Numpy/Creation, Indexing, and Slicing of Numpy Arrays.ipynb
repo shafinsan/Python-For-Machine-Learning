{
 "cells": [
  {
   "cell_type": "code",
   "execution_count": 21,
   "id": "9e09b070",
   "metadata": {},
   "outputs": [
    {
     "name": "stdout",
     "output_type": "stream",
     "text": [
      "[[ 2  3  4]\n",
      " [ 8  9 10]\n",
      " [14 15 16]]\n",
      "\n",
      "\n",
      "[15 16 17 18]\n"
     ]
    }
   ],
   "source": [
    "import numpy as np\n",
    "data=[[1,2,3,4,5,6],[7,8,9,10,11,12],[13,14,15,16,17,18]]\n",
    "data=np.array(data)\n",
    "data.ndim\n",
    "print(data[0:4,1:4])\n",
    "print(\"\\n\")\n",
    "print(data[2,2:])"
   ]
  },
  {
   "cell_type": "code",
   "execution_count": null,
   "id": "6fd9d57c",
   "metadata": {},
   "outputs": [],
   "source": []
  }
 ],
 "metadata": {
  "kernelspec": {
   "display_name": "Python 3 (ipykernel)",
   "language": "python",
   "name": "python3"
  },
  "language_info": {
   "codemirror_mode": {
    "name": "ipython",
    "version": 3
   },
   "file_extension": ".py",
   "mimetype": "text/x-python",
   "name": "python",
   "nbconvert_exporter": "python",
   "pygments_lexer": "ipython3",
   "version": "3.11.3"
  }
 },
 "nbformat": 4,
 "nbformat_minor": 5
}
