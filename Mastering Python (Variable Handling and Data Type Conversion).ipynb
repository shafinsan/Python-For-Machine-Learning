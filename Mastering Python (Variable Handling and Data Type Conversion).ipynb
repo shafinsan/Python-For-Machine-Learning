{
 "cells": [
  {
   "cell_type": "code",
   "execution_count": 4,
   "id": "78250739",
   "metadata": {},
   "outputs": [
    {
     "name": "stdout",
     "output_type": "stream",
     "text": [
      "Value of a: 10\n",
      "Value of a: 11\n",
      "We can print any value directly : 11\n"
     ]
    }
   ],
   "source": [
    "#Variables and Data Types\n",
    "a=10\n",
    "print('Value of a:',a)\n",
    "a=11\n",
    "print('Value of a:',a)\n",
    "print('We can print any value directly :',11)"
   ]
  },
  {
   "cell_type": "code",
   "execution_count": 7,
   "id": "d53f8076",
   "metadata": {},
   "outputs": [
    {
     "name": "stdout",
     "output_type": "stream",
     "text": [
      "<class 'str'>\n",
      "<class 'str'>\n",
      "<class 'float'>\n"
     ]
    }
   ],
   "source": [
    "#We can check our variable is string or number\n",
    "print(type(a))\n",
    "a='elias jaber'\n",
    "print(type(a))\n",
    "a=10.12\n",
    "print(type(a))"
   ]
  },
  {
   "cell_type": "code",
   "execution_count": 8,
   "id": "5661fa37",
   "metadata": {},
   "outputs": [],
   "source": [
    "#conversion"
   ]
  },
  {
   "cell_type": "code",
   "execution_count": 15,
   "id": "1abb7698",
   "metadata": {},
   "outputs": [
    {
     "name": "stdout",
     "output_type": "stream",
     "text": [
      "123\n",
      "123\n",
      "123\n",
      "123.0\n",
      "123.45\n",
      "123.45\n",
      "True True\n",
      "True\n",
      "False True\n",
      "1\n",
      "False True\n",
      "0.0\n"
     ]
    }
   ],
   "source": [
    "#String to Integer\n",
    "\n",
    "s = \"123\"\n",
    "i = int(s)\n",
    "print(i)  \n",
    "\n",
    "#Integer to String\n",
    "\n",
    "i = 123\n",
    "s = str(i)\n",
    "print(s)  # Output: \"123\"\n",
    "\n",
    "#Float to Integer\n",
    "\n",
    "\n",
    "f = 123.45\n",
    "i = int(f)\n",
    "print(i)  # Output: 123\n",
    "\n",
    "\n",
    "#Integer to Float\n",
    "\n",
    "i = 123\n",
    "f = float(i)\n",
    "print(f)  # Output: 123.0\n",
    "\n",
    "#String to Float\n",
    "\n",
    "s = \"123.45\"\n",
    "f = float(s)\n",
    "print(f)  # Output: 123.45\n",
    "\n",
    "#Float to String\n",
    "\n",
    "f = 123.45\n",
    "s = str(f)\n",
    "print(s)  # Output: \"123.45\"\n",
    "\n",
    "#String to Boolean\n",
    "\n",
    "s1 = \"True\"\n",
    "s2 = \"False\"\n",
    "b1 = bool(s1)\n",
    "b2 = bool(s2)\n",
    "print(b1, b2)  # Output: True True\n",
    "\n",
    "\n",
    "#Boolean to String\n",
    "\n",
    "b = True\n",
    "s = str(b)\n",
    "print(s)  # Output: \"True\"\n",
    "\n",
    "#Integer to Boolean\n",
    "\n",
    "i1 = 0\n",
    "i2 = 1\n",
    "b1 = bool(i1)\n",
    "b2 = bool(i2)\n",
    "print(b1, b2)  # Output: False True\n",
    "\n",
    "\n",
    "#Boolean to Integer\n",
    "\n",
    "b = True\n",
    "i = int(b)\n",
    "print(i)  # Output: 1\n",
    "\n",
    "\n",
    "#Float to Boolean\n",
    "\n",
    "f1 = 0.0\n",
    "f2 = 1.23\n",
    "b1 = bool(f1)\n",
    "b2 = bool(f2)\n",
    "print(b1, b2)  # Output: False True\n",
    "\n",
    "\n",
    "#Boolean to Float\n",
    "\n",
    "b = False\n",
    "f = float(b)\n",
    "print(f)  # Output: 0.0"
   ]
  },
  {
   "cell_type": "code",
   "execution_count": 12,
   "id": "d643c55a",
   "metadata": {},
   "outputs": [
    {
     "name": "stdout",
     "output_type": "stream",
     "text": [
      "123\n"
     ]
    }
   ],
   "source": [
    "\n"
   ]
  },
  {
   "cell_type": "code",
   "execution_count": null,
   "id": "cc3c1e3d",
   "metadata": {},
   "outputs": [],
   "source": []
  }
 ],
 "metadata": {
  "kernelspec": {
   "display_name": "Python 3 (ipykernel)",
   "language": "python",
   "name": "python3"
  },
  "language_info": {
   "codemirror_mode": {
    "name": "ipython",
    "version": 3
   },
   "file_extension": ".py",
   "mimetype": "text/x-python",
   "name": "python",
   "nbconvert_exporter": "python",
   "pygments_lexer": "ipython3",
   "version": "3.11.3"
  }
 },
 "nbformat": 4,
 "nbformat_minor": 5
}
