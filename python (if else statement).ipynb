{
 "cells": [
  {
   "cell_type": "code",
   "execution_count": 2,
   "id": "ea3f8151",
   "metadata": {},
   "outputs": [
    {
     "name": "stdout",
     "output_type": "stream",
     "text": [
      "True\n"
     ]
    }
   ],
   "source": [
    "print(5==5)"
   ]
  },
  {
   "cell_type": "code",
   "execution_count": 5,
   "id": "cae0d379",
   "metadata": {},
   "outputs": [
    {
     "name": "stdout",
     "output_type": "stream",
     "text": [
      "Enter first number :12\n",
      "Enter second number :14\n",
      "nop first and second are not same bby\n",
      "[]\n"
     ]
    }
   ],
   "source": [
    "a=int(input('Enter first number :'))\n",
    "b=int(input('Enter second number :'))\n",
    "c=\"\"\n",
    "if(a==b):\n",
    "    print('yep! first and second number are same bby')\n",
    "    c=\"hello bby\"\n",
    "else:\n",
    "    print('nop first and second are not same bby')\n",
    "print(c.split())"
   ]
  },
  {
   "cell_type": "code",
   "execution_count": null,
   "id": "daa824be",
   "metadata": {},
   "outputs": [],
   "source": [
    "|"
   ]
  }
 ],
 "metadata": {
  "kernelspec": {
   "display_name": "Python 3 (ipykernel)",
   "language": "python",
   "name": "python3"
  },
  "language_info": {
   "codemirror_mode": {
    "name": "ipython",
    "version": 3
   },
   "file_extension": ".py",
   "mimetype": "text/x-python",
   "name": "python",
   "nbconvert_exporter": "python",
   "pygments_lexer": "ipython3",
   "version": "3.11.3"
  }
 },
 "nbformat": 4,
 "nbformat_minor": 5
}
