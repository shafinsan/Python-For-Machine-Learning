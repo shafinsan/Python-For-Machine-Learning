{
 "cells": [
  {
   "cell_type": "code",
   "execution_count": 5,
   "id": "0bef8d3e",
   "metadata": {},
   "outputs": [
    {
     "name": "stdout",
     "output_type": "stream",
     "text": [
      "14\n",
      "-4\n",
      "45\n",
      "0.5555555555555556\n",
      "0\n",
      "5\n",
      "8\n",
      "10\n",
      "round 0.56\n",
      "8\n"
     ]
    }
   ],
   "source": [
    "#1. Addition\n",
    "a=5+9\n",
    "print(a)\n",
    "\n",
    "#2. Subtraction\n",
    "a=5-9\n",
    "print(a)\n",
    "\n",
    "#3. Multiplication\n",
    "a=5*9\n",
    "print(a)\n",
    "\n",
    "#4. Division\n",
    "a=5/9\n",
    "print(a)\n",
    "\n",
    "\n",
    "#5. Floor Division\n",
    "a=5//9\n",
    "print(a)\n",
    "\n",
    "\n",
    "#6. Modulus\n",
    "a=5%9\n",
    "print(a)\n",
    "\n",
    "#7. Exponential\n",
    "a=2**3\n",
    "print(a)\n",
    "\n",
    "\n",
    "#8. Absolute Value\n",
    "print(abs(-10))\n",
    "\n",
    "#9. Rounding\n",
    "a=5/9\n",
    "print('round',round(a,2))\n",
    "\n",
    "\n",
    "#10. Power Function (using pow)\n",
    "a=2\n",
    "b=3\n",
    "c=pow(a,b)\n",
    "print(c)\n",
    "\n"
   ]
  },
  {
   "cell_type": "code",
   "execution_count": 14,
   "id": "8a4cd53f",
   "metadata": {},
   "outputs": [
    {
     "name": "stdout",
     "output_type": "stream",
     "text": [
      "2.23606797749979\n",
      "sin 0.7071067811865476\n",
      "cos 0.7071067811865476\n",
      "tan 0.9999999999999999\n",
      "log10: 2.0\n",
      "log: 0.6931471805599453\n"
     ]
    }
   ],
   "source": [
    "import math\n",
    "#11. Square Root (using math module)\n",
    "a=5\n",
    "print(math.sqrt(a))\n",
    "\n",
    "#12. Trigonometric Functions (using math module)\n",
    "angle=math.pi/4\n",
    "sin=math.sin(angle)\n",
    "cos=math.cos(angle)\n",
    "tan=math.tan(angle)\n",
    "print('sin',sin)\n",
    "print('cos',cos)\n",
    "print('tan',tan)\n",
    "#13. Logarithmic Functions (using math module)\n",
    "\n",
    "value=100\n",
    "value=math.log10(value)\n",
    "print('log10:',value)\n",
    "value=math.log(value)\n",
    "print('log:',value)"
   ]
  },
  {
   "cell_type": "code",
   "execution_count": null,
   "id": "a68088e8",
   "metadata": {},
   "outputs": [],
   "source": []
  }
 ],
 "metadata": {
  "kernelspec": {
   "display_name": "Python 3 (ipykernel)",
   "language": "python",
   "name": "python3"
  },
  "language_info": {
   "codemirror_mode": {
    "name": "ipython",
    "version": 3
   },
   "file_extension": ".py",
   "mimetype": "text/x-python",
   "name": "python",
   "nbconvert_exporter": "python",
   "pygments_lexer": "ipython3",
   "version": "3.11.3"
  }
 },
 "nbformat": 4,
 "nbformat_minor": 5
}
