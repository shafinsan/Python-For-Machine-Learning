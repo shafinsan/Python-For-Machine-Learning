{
 "cells": [
  {
   "cell_type": "code",
   "execution_count": 1,
   "id": "3742b488",
   "metadata": {},
   "outputs": [
    {
     "name": "stdout",
     "output_type": "stream",
     "text": [
      "elias jaber shafin\n"
     ]
    }
   ],
   "source": [
    "#string\n",
    "name='elias jaber shafin'\n",
    "print(name)"
   ]
  },
  {
   "cell_type": "code",
   "execution_count": 2,
   "id": "931b2222",
   "metadata": {},
   "outputs": [
    {
     "name": "stdout",
     "output_type": "stream",
     "text": [
      "elias jaber\n",
      "shafin\n"
     ]
    }
   ],
   "source": [
    "#multiline using single triple quote\n",
    "name='''elias jaber\n",
    "shafin'''\n",
    "print(name)\n"
   ]
  },
  {
   "cell_type": "code",
   "execution_count": 5,
   "id": "fbe3ffbc",
   "metadata": {},
   "outputs": [
    {
     "name": "stdout",
     "output_type": "stream",
     "text": [
      "\"elias jaber\n",
      "shafin\n"
     ]
    }
   ],
   "source": [
    "#multiline using double triple quote\n",
    "name=\"\"\"\"elias jaber\n",
    "shafin\"\"\"\n",
    "print(name)\n"
   ]
  },
  {
   "cell_type": "code",
   "execution_count": 6,
   "id": "91e34cd8",
   "metadata": {},
   "outputs": [
    {
     "name": "stdout",
     "output_type": "stream",
     "text": [
      "elias 15\n"
     ]
    }
   ],
   "source": [
    "#concat\n",
    "name='elias'\n",
    "age=15\n",
    "print(name,age)"
   ]
  },
  {
   "cell_type": "code",
   "execution_count": 8,
   "id": "1dea8d95",
   "metadata": {},
   "outputs": [
    {
     "name": "stdout",
     "output_type": "stream",
     "text": [
      "length : 18\n"
     ]
    }
   ],
   "source": [
    "#length\n",
    "name='elias jaber shafin'\n",
    "print('length :',len(name))"
   ]
  },
  {
   "cell_type": "code",
   "execution_count": 12,
   "id": "e1bb44e6",
   "metadata": {},
   "outputs": [
    {
     "name": "stdout",
     "output_type": "stream",
     "text": [
      "e\n",
      "elia\n",
      "eisj\n"
     ]
    }
   ],
   "source": [
    "#index and slicing\n",
    "print(name[0])\n",
    "print(name[0:4])\n",
    "print(name[0:8:2])"
   ]
  },
  {
   "cell_type": "code",
   "execution_count": 15,
   "id": "e7f4b878",
   "metadata": {},
   "outputs": [
    {
     "name": "stdout",
     "output_type": "stream",
     "text": [
      "my name is elias jaber shafin\n",
      "2+2=4\n"
     ]
    }
   ],
   "source": [
    "#formatting\n",
    "print(f'my name is {name}')\n",
    "print(f'2+2={2+2}')"
   ]
  },
  {
   "cell_type": "code",
   "execution_count": 29,
   "id": "60669328",
   "metadata": {},
   "outputs": [
    {
     "name": "stdout",
     "output_type": "stream",
     "text": [
      "    ELIAS JABER SHAFIN \n",
      "    elias jaber shafin \n",
      "    elias jaber shafin \n",
      "    Elias Jaber Shafin \n",
      "    elias jaber shafin \n",
      "strip: elias jaber shafin\n",
      "lstrip: elias jaber shafin \n",
      "rstrip:     elias jaber shafin\n"
     ]
    }
   ],
   "source": [
    "#upper case\n",
    "print(name.upper())\n",
    "#lower case\n",
    "print(name.lower())\n",
    "#capitalize\n",
    "print(name.capitalize())\n",
    "#title\n",
    "print(name.title())\n",
    "#strip\n",
    "name=\"    elias jaber shafin \"\n",
    "print(name)\n",
    "print('strip:',name.strip())\n",
    "print('lstrip:',name.lstrip())\n",
    "print('rstrip:',name.rstrip())"
   ]
  },
  {
   "cell_type": "code",
   "execution_count": 37,
   "id": "f0b4e26a",
   "metadata": {},
   "outputs": [
    {
     "name": "stdout",
     "output_type": "stream",
     "text": [
      "2\n"
     ]
    }
   ],
   "source": [
    "#count\n",
    "print(name.count('e'))"
   ]
  },
  {
   "cell_type": "code",
   "execution_count": 38,
   "id": "f3b783a5",
   "metadata": {},
   "outputs": [
    {
     "name": "stdout",
     "output_type": "stream",
     "text": [
      "4\n"
     ]
    }
   ],
   "source": [
    "#find\n",
    "print(name.find('e'))"
   ]
  },
  {
   "cell_type": "code",
   "execution_count": 44,
   "id": "b427e147",
   "metadata": {},
   "outputs": [
    {
     "name": "stdout",
     "output_type": "stream",
     "text": [
      "True\n",
      "True\n"
     ]
    }
   ],
   "source": [
    "name='elias jaber shafin'\n",
    "#startswith\n",
    "print(name.startswith('elias'))\n",
    "#endswith\n",
    "print(name.endswith('shafin'))"
   ]
  },
  {
   "cell_type": "code",
   "execution_count": 45,
   "id": "9f9a9d56",
   "metadata": {},
   "outputs": [
    {
     "name": "stdout",
     "output_type": "stream",
     "text": [
      "xlias jabxr shafin\n"
     ]
    }
   ],
   "source": [
    "#replace\n",
    "print(name.replace('e','x'))"
   ]
  },
  {
   "cell_type": "code",
   "execution_count": null,
   "id": "c96e6dc2",
   "metadata": {},
   "outputs": [],
   "source": []
  }
 ],
 "metadata": {
  "kernelspec": {
   "display_name": "Python 3 (ipykernel)",
   "language": "python",
   "name": "python3"
  },
  "language_info": {
   "codemirror_mode": {
    "name": "ipython",
    "version": 3
   },
   "file_extension": ".py",
   "mimetype": "text/x-python",
   "name": "python",
   "nbconvert_exporter": "python",
   "pygments_lexer": "ipython3",
   "version": "3.11.3"
  }
 },
 "nbformat": 4,
 "nbformat_minor": 5
}
