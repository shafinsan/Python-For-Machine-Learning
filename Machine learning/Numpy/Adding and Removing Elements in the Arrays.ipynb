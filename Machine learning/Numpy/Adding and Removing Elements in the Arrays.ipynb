{
 "cells": [
  {
   "cell_type": "code",
   "execution_count": 7,
   "id": "d36ef064",
   "metadata": {},
   "outputs": [
    {
     "name": "stdout",
     "output_type": "stream",
     "text": [
      "[1 2 3 4 5 6 7 8 9 4 5 3]\n"
     ]
    }
   ],
   "source": [
    "import numpy as np\n",
    "data=np.array([[1,2,3],[4,5,6],[7,8,9]])\n",
    "data\n",
    "print(np.append(data,[4,5,3]))"
   ]
  },
  {
   "cell_type": "code",
   "execution_count": 10,
   "id": "cf338449",
   "metadata": {},
   "outputs": [
    {
     "name": "stdout",
     "output_type": "stream",
     "text": [
      "[[4 1 2 3]\n",
      " [5 4 5 6]\n",
      " [3 7 8 9]]\n"
     ]
    }
   ],
   "source": [
    "data=np.array([[1,2,3],[4,5,6],[7,8,9]])\n",
    "data\n",
    "print(np.insert(data,0,[4,5,3],axis=1))"
   ]
  },
  {
   "cell_type": "code",
   "execution_count": 12,
   "id": "ebc3fad8",
   "metadata": {},
   "outputs": [
    {
     "name": "stdout",
     "output_type": "stream",
     "text": [
      "[[1 3]\n",
      " [4 6]\n",
      " [7 9]]\n"
     ]
    }
   ],
   "source": [
    "data=np.array([[1,2,3],[4,5,6],[7,8,9]])\n",
    "data\n",
    "print(np.delete(data,1,axis=1))"
   ]
  },
  {
   "cell_type": "code",
   "execution_count": null,
   "id": "6117f733",
   "metadata": {},
   "outputs": [],
   "source": []
  }
 ],
 "metadata": {
  "kernelspec": {
   "display_name": "Python 3 (ipykernel)",
   "language": "python",
   "name": "python3"
  },
  "language_info": {
   "codemirror_mode": {
    "name": "ipython",
    "version": 3
   },
   "file_extension": ".py",
   "mimetype": "text/x-python",
   "name": "python",
   "nbconvert_exporter": "python",
   "pygments_lexer": "ipython3",
   "version": "3.11.3"
  }
 },
 "nbformat": 4,
 "nbformat_minor": 5
}
