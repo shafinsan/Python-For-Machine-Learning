{
 "cells": [
  {
   "cell_type": "code",
   "execution_count": 2,
   "id": "0a4e96b1",
   "metadata": {},
   "outputs": [
    {
     "name": "stdout",
     "output_type": "stream",
     "text": [
      "Enter your name :elias\n",
      "My name is : elias\n"
     ]
    }
   ],
   "source": [
    "a=input('Enter your name :')\n",
    "print('My name is :',a)"
   ]
  },
  {
   "cell_type": "code",
   "execution_count": 4,
   "id": "019e74c9",
   "metadata": {},
   "outputs": [
    {
     "name": "stdout",
     "output_type": "stream",
     "text": [
      "Enter your name :10\n",
      "My name is : <class 'int'>\n"
     ]
    }
   ],
   "source": [
    "a=int(input('Enter your name :'))\n",
    "\n",
    "print('My name is :',type(a))"
   ]
  },
  {
   "cell_type": "code",
   "execution_count": null,
   "id": "a4ca6585",
   "metadata": {},
   "outputs": [],
   "source": []
  }
 ],
 "metadata": {
  "kernelspec": {
   "display_name": "Python 3 (ipykernel)",
   "language": "python",
   "name": "python3"
  },
  "language_info": {
   "codemirror_mode": {
    "name": "ipython",
    "version": 3
   },
   "file_extension": ".py",
   "mimetype": "text/x-python",
   "name": "python",
   "nbconvert_exporter": "python",
   "pygments_lexer": "ipython3",
   "version": "3.11.3"
  }
 },
 "nbformat": 4,
 "nbformat_minor": 5
}
