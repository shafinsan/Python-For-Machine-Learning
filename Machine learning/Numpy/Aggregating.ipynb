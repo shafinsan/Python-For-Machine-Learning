{
 "cells": [
  {
   "cell_type": "code",
   "execution_count": 1,
   "id": "43927e25",
   "metadata": {},
   "outputs": [
    {
     "name": "stdout",
     "output_type": "stream",
     "text": [
      "[[1 2 3 4 5 6]\n",
      " [4 7 8 9 6 7]]\n",
      "min [1 2 3 4 5 6]\n",
      "max [4 7 8 9 6 7]\n",
      "sum [ 5  9 11 13 11 13]\n",
      "\n",
      "\n",
      "\n",
      "\n",
      "5500\n"
     ]
    }
   ],
   "source": [
    "import numpy as np\n",
    "value=np.array([[1,2,3,4,5,6],[4,7,8,9,6,7]])\n",
    "print(value)\n",
    "print('min',np.min(value,axis=0))\n",
    "print('max',np.max(value,axis=0))\n",
    "print('sum',np.sum(value,axis=0))\n",
    "print('\\n\\n\\n')\n",
    "a=np.array([100,200,300,400,500])\n",
    "b=np.array([1,2,3,4,5])\n",
    "c=np.cumprod([a,b],axis=0)\n",
    "print(c[1].sum())\n"
   ]
  },
  {
   "cell_type": "code",
   "execution_count": null,
   "id": "aecbe51e",
   "metadata": {},
   "outputs": [],
   "source": []
  }
 ],
 "metadata": {
  "kernelspec": {
   "display_name": "Python 3 (ipykernel)",
   "language": "python",
   "name": "python3"
  },
  "language_info": {
   "codemirror_mode": {
    "name": "ipython",
    "version": 3
   },
   "file_extension": ".py",
   "mimetype": "text/x-python",
   "name": "python",
   "nbconvert_exporter": "python",
   "pygments_lexer": "ipython3",
   "version": "3.11.3"
  }
 },
 "nbformat": 4,
 "nbformat_minor": 5
}
