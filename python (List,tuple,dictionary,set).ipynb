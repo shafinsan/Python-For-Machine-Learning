{
 "cells": [
  {
   "cell_type": "code",
   "execution_count": 1,
   "id": "ea6dcb28",
   "metadata": {},
   "outputs": [
    {
     "name": "stdout",
     "output_type": "stream",
     "text": [
      "[0, 1, 2]\n"
     ]
    }
   ],
   "source": [
    "mylist=[0,1,2]\n",
    "print(mylist)"
   ]
  },
  {
   "cell_type": "code",
   "execution_count": 2,
   "id": "1b2c4fe1",
   "metadata": {},
   "outputs": [],
   "source": [
    "mylist.append('english')"
   ]
  },
  {
   "cell_type": "code",
   "execution_count": 3,
   "id": "7601b9ec",
   "metadata": {},
   "outputs": [
    {
     "name": "stdout",
     "output_type": "stream",
     "text": [
      "[0, 1, 2, 'english']\n"
     ]
    }
   ],
   "source": [
    "print(mylist)"
   ]
  },
  {
   "cell_type": "code",
   "execution_count": 4,
   "id": "bf05c78b",
   "metadata": {},
   "outputs": [
    {
     "name": "stdout",
     "output_type": "stream",
     "text": [
      "2\n"
     ]
    }
   ],
   "source": [
    "print(mylist[2])"
   ]
  },
  {
   "cell_type": "code",
   "execution_count": 5,
   "id": "69558a7f",
   "metadata": {},
   "outputs": [
    {
     "name": "stdout",
     "output_type": "stream",
     "text": [
      "[0, 1, 'english']\n"
     ]
    }
   ],
   "source": [
    "del mylist[2]\n",
    "print(mylist)"
   ]
  },
  {
   "cell_type": "code",
   "execution_count": 7,
   "id": "b0529829",
   "metadata": {},
   "outputs": [
    {
     "name": "stdout",
     "output_type": "stream",
     "text": [
      "3\n"
     ]
    }
   ],
   "source": [
    "print(len(mylist))"
   ]
  },
  {
   "cell_type": "code",
   "execution_count": 13,
   "id": "5b3b91f6",
   "metadata": {},
   "outputs": [
    {
     "name": "stdout",
     "output_type": "stream",
     "text": [
      "[0, 1, 'english', 4, 9, 8]\n"
     ]
    }
   ],
   "source": [
    "newList=[4,9,8]\n",
    "newUpdateList=mylist+newList\n",
    "print(newUpdateList)"
   ]
  },
  {
   "cell_type": "code",
   "execution_count": 17,
   "id": "9b2b0251",
   "metadata": {},
   "outputs": [],
   "source": [
    "myTuple=tuple(newUpdateList)"
   ]
  },
  {
   "cell_type": "code",
   "execution_count": 18,
   "id": "a1a6a925",
   "metadata": {},
   "outputs": [
    {
     "name": "stdout",
     "output_type": "stream",
     "text": [
      "(0, 1, 'english', 4, 9, 8)\n"
     ]
    }
   ],
   "source": [
    "print(myTuple)"
   ]
  },
  {
   "cell_type": "code",
   "execution_count": 19,
   "id": "ca0fdc60",
   "metadata": {},
   "outputs": [],
   "source": [
    "mySet=set(myTuple)"
   ]
  },
  {
   "cell_type": "code",
   "execution_count": 26,
   "id": "149106de",
   "metadata": {},
   "outputs": [
    {
     "name": "stdout",
     "output_type": "stream",
     "text": [
      "{0, 1, 4, 'english', 8, 9}\n"
     ]
    }
   ],
   "source": [
    "#set not support index\n",
    "print(mySet)"
   ]
  },
  {
   "cell_type": "code",
   "execution_count": 21,
   "id": "ebd25806",
   "metadata": {},
   "outputs": [
    {
     "name": "stdout",
     "output_type": "stream",
     "text": [
      "{'name': 'elias', 'age': 25, 'subject': 'Enlish'}\n"
     ]
    }
   ],
   "source": [
    "dictonary={'name':\"elias\",'age':25,'subject':'Enlish'}\n",
    "print(dictonary)"
   ]
  },
  {
   "cell_type": "code",
   "execution_count": 25,
   "id": "a8add5e7",
   "metadata": {},
   "outputs": [
    {
     "name": "stdout",
     "output_type": "stream",
     "text": [
      "25\n"
     ]
    }
   ],
   "source": [
    "print(dictonary['age'])"
   ]
  },
  {
   "cell_type": "code",
   "execution_count": null,
   "id": "6ad58945",
   "metadata": {},
   "outputs": [],
   "source": []
  }
 ],
 "metadata": {
  "kernelspec": {
   "display_name": "Python 3 (ipykernel)",
   "language": "python",
   "name": "python3"
  },
  "language_info": {
   "codemirror_mode": {
    "name": "ipython",
    "version": 3
   },
   "file_extension": ".py",
   "mimetype": "text/x-python",
   "name": "python",
   "nbconvert_exporter": "python",
   "pygments_lexer": "ipython3",
   "version": "3.11.3"
  }
 },
 "nbformat": 4,
 "nbformat_minor": 5
}
