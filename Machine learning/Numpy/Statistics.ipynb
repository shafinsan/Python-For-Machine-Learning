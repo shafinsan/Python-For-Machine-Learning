{
 "cells": [
  {
   "cell_type": "code",
   "execution_count": 6,
   "id": "63e018b0",
   "metadata": {},
   "outputs": [
    {
     "name": "stdout",
     "output_type": "stream",
     "text": [
      "book : [100 200 300 400 500]\n",
      "price : [2 3 4 5 6]\n"
     ]
    }
   ],
   "source": [
    "import numpy as np\n",
    "import statistics as statics\n",
    "book=np.array([100,200,300,400,500])\n",
    "price=np.array([2,3,4,5,6])\n",
    "print('book :',book)\n",
    "print('price :',price)"
   ]
  },
  {
   "cell_type": "code",
   "execution_count": 3,
   "id": "df559fd7",
   "metadata": {},
   "outputs": [
    {
     "name": "stdout",
     "output_type": "stream",
     "text": [
      "book mean : 300.0\n",
      "price mean : 4.0\n"
     ]
    }
   ],
   "source": [
    "print('book mean :',np.mean(book))\n",
    "print('price mean :',np.mean(price))"
   ]
  },
  {
   "cell_type": "code",
   "execution_count": 4,
   "id": "67c8682e",
   "metadata": {},
   "outputs": [
    {
     "name": "stdout",
     "output_type": "stream",
     "text": [
      "book median : 300.0\n",
      "price median : 4.0\n"
     ]
    }
   ],
   "source": [
    "print('book median :',np.median(book))\n",
    "print('price median :',np.median(price))"
   ]
  },
  {
   "cell_type": "code",
   "execution_count": 7,
   "id": "8fd04471",
   "metadata": {},
   "outputs": [
    {
     "name": "stdout",
     "output_type": "stream",
     "text": [
      "book mode : 100\n",
      "price mode : 2\n"
     ]
    }
   ],
   "source": [
    "print('book mode :',statics.mode(book))\n",
    "print('price mode :',statics.mode(price))"
   ]
  },
  {
   "cell_type": "code",
   "execution_count": 8,
   "id": "40278035",
   "metadata": {},
   "outputs": [
    {
     "name": "stdout",
     "output_type": "stream",
     "text": [
      "book cumsum : [ 100  300  600 1000 1500]\n",
      "price cumsum : [ 2  5  9 14 20]\n"
     ]
    }
   ],
   "source": [
    "print('book cumsum :',np.cumsum(book))\n",
    "print('price cumsum :',np.cumsum(price))"
   ]
  },
  {
   "cell_type": "code",
   "execution_count": 13,
   "id": "a015f93f",
   "metadata": {},
   "outputs": [
    {
     "name": "stdout",
     "output_type": "stream",
     "text": [
      "book : [100 200 300 400 500]\n",
      "price : [2 3 4 5 6]\n",
      "book cumprod : [        100       20000     6000000 -1894967296  1704124416]\n",
      "price cumprod : [  2   6  24 120 720]\n"
     ]
    }
   ],
   "source": [
    "print('book :',book)\n",
    "print('price :',price)\n",
    "print('book cumprod :',np.cumprod(book))\n",
    "print('price cumprod :',np.cumprod(price))\n"
   ]
  },
  {
   "cell_type": "code",
   "execution_count": 15,
   "id": "28d15d99",
   "metadata": {},
   "outputs": [
    {
     "name": "stdout",
     "output_type": "stream",
     "text": [
      "relation like propetional and so on \n",
      "  [[1. 1.]\n",
      " [1. 1.]]\n"
     ]
    }
   ],
   "source": [
    "print('relation like propetional and so on \\n ',np.corrcoef([book,price]))"
   ]
  },
  {
   "cell_type": "code",
   "execution_count": null,
   "id": "c8229fca",
   "metadata": {},
   "outputs": [],
   "source": []
  },
  {
   "cell_type": "code",
   "execution_count": null,
   "id": "a24e745d",
   "metadata": {},
   "outputs": [],
   "source": []
  }
 ],
 "metadata": {
  "kernelspec": {
   "display_name": "Python 3 (ipykernel)",
   "language": "python",
   "name": "python3"
  },
  "language_info": {
   "codemirror_mode": {
    "name": "ipython",
    "version": 3
   },
   "file_extension": ".py",
   "mimetype": "text/x-python",
   "name": "python",
   "nbconvert_exporter": "python",
   "pygments_lexer": "ipython3",
   "version": "3.11.3"
  }
 },
 "nbformat": 4,
 "nbformat_minor": 5
}
