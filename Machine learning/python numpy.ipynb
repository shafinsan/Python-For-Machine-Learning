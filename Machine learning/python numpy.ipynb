{
 "cells": [
  {
   "cell_type": "markdown",
   "id": "d5d51360",
   "metadata": {},
   "source": [
    "   Importance of Numpy\n",
    "1. Allows Several Mathmetical operations\n",
    "2. Faster Operations  "
   ]
  },
  {
   "cell_type": "code",
   "execution_count": 1,
   "id": "b60e6951",
   "metadata": {},
   "outputs": [],
   "source": [
    "import numpy as np\n",
    "from time import process_time "
   ]
  },
  {
   "cell_type": "markdown",
   "id": "ace2fe64",
   "metadata": {},
   "source": [
    " List vs Numpy"
   ]
  },
  {
   "cell_type": "code",
   "execution_count": 2,
   "id": "c5d90c13",
   "metadata": {},
   "outputs": [
    {
     "name": "stdout",
     "output_type": "stream",
     "text": [
      "3.453125\n"
     ]
    }
   ],
   "source": [
    "first_list=[];\n",
    "second_list=[];\n",
    "for i in range(10000000):\n",
    "    first_list.append(i+1);\n",
    "\n",
    "start_time=process_time();\n",
    "\n",
    "\n",
    "for i in range(10000000):\n",
    "    second_list.append(first_list[i] + 5);\n",
    "\n",
    "end_time=process_time();\n",
    "\n",
    "print(end_time - start_time)"
   ]
  },
  {
   "cell_type": "code",
   "execution_count": 3,
   "id": "e3e891dc",
   "metadata": {},
   "outputs": [
    {
     "name": "stdout",
     "output_type": "stream",
     "text": [
      "0.0\n"
     ]
    }
   ],
   "source": [
    "np_array=np.array([i for i in range(10000000)])\n",
    "start_time=process_time();\n",
    "np_array +=5;\n",
    "end_time=process_time();\n",
    "print(end_time - start_time)"
   ]
  },
  {
   "cell_type": "markdown",
   "id": "db15b28f",
   "metadata": {},
   "source": [
    "Dimentional Array "
   ]
  },
  {
   "cell_type": "code",
   "execution_count": 4,
   "id": "4fda12de",
   "metadata": {},
   "outputs": [
    {
     "name": "stdout",
     "output_type": "stream",
     "text": [
      "1d array : [1 2 3 4]\n",
      "2d array : [[1 2 3 4]\n",
      " [1 2 3 4]]\n",
      "3d array : [[1. 2. 3. 4.]\n",
      " [1. 2. 3. 4.]\n",
      " [1. 2. 3. 4.]]\n"
     ]
    }
   ],
   "source": [
    "nd_array=np.array([1,2,3,4])\n",
    "print('1d array :',nd_array)\n",
    "\n",
    "nd_array=np.array([(1,2,3,4),(1,2,3,4)])\n",
    "print('2d array :',nd_array)\n",
    "\n",
    "nd_array=np.array([(1,2,3,4),(1,2,3,4),(1,2,3,4)], dtype=float)\n",
    "print('3d array :',nd_array)"
   ]
  },
  {
   "cell_type": "markdown",
   "id": "6118ec0f",
   "metadata": {},
   "source": [
    "Finding Shape\n"
   ]
  },
  {
   "cell_type": "code",
   "execution_count": 5,
   "id": "4f95e3c6",
   "metadata": {},
   "outputs": [
    {
     "name": "stdout",
     "output_type": "stream",
     "text": [
      "(3, 4)\n"
     ]
    }
   ],
   "source": [
    "shape=nd_array.shape\n",
    "print(shape)"
   ]
  },
  {
   "cell_type": "markdown",
   "id": "6d619c71",
   "metadata": {},
   "source": [
    "Initial Palaceholder in Numpy Array"
   ]
  },
  {
   "cell_type": "code",
   "execution_count": 6,
   "id": "185d9928",
   "metadata": {},
   "outputs": [
    {
     "name": "stdout",
     "output_type": "stream",
     "text": [
      "[[0. 0. 0.]\n",
      " [0. 0. 0.]\n",
      " [0. 0. 0.]]\n"
     ]
    }
   ],
   "source": [
    "zeros_array=np.zeros((3,3))\n",
    "print(zeros_array)"
   ]
  },
  {
   "cell_type": "code",
   "execution_count": 7,
   "id": "77cfdfc4",
   "metadata": {},
   "outputs": [
    {
     "name": "stdout",
     "output_type": "stream",
     "text": [
      "[[1. 1. 1.]\n",
      " [1. 1. 1.]\n",
      " [1. 1. 1.]]\n"
     ]
    }
   ],
   "source": [
    "ones_array=np.ones((3,3))\n",
    "print(ones_array)\n",
    "\n"
   ]
  },
  {
   "cell_type": "code",
   "execution_count": 8,
   "id": "cc13dece",
   "metadata": {},
   "outputs": [
    {
     "name": "stdout",
     "output_type": "stream",
     "text": [
      "[[5. 5. 5.]\n",
      " [5. 5. 5.]\n",
      " [5. 5. 5.]]\n"
     ]
    }
   ],
   "source": [
    "full=np.full((3,3),5,dtype=float)\n",
    "print(full)\n",
    "\n"
   ]
  },
  {
   "cell_type": "code",
   "execution_count": 9,
   "id": "6a6134dd",
   "metadata": {},
   "outputs": [
    {
     "name": "stdout",
     "output_type": "stream",
     "text": [
      "[[0.19483581 0.09972264 0.58439178 0.10981847]\n",
      " [0.32145249 0.63717694 0.52745245 0.08575912]\n",
      " [0.53862005 0.06363057 0.94883253 0.17889332]]\n"
     ]
    }
   ],
   "source": [
    "making_array_from_random=np.random.random((3,4))\n",
    "print(making_array_from_random)"
   ]
  },
  {
   "cell_type": "code",
   "execution_count": null,
   "id": "0e531e34",
   "metadata": {},
   "outputs": [],
   "source": [
    "making_array_from_random_with_intiger_value=np.random.randint(10,100,(100,10))\n",
    "print(making_array_from_random_with_intiger_value)"
   ]
  },
  {
   "cell_type": "code",
   "execution_count": 11,
   "id": "8c70d785",
   "metadata": {},
   "outputs": [
    {
     "name": "stdout",
     "output_type": "stream",
     "text": [
      "[[1. 0. 0. 0.]\n",
      " [0. 1. 0. 0.]\n",
      " [0. 0. 1. 0.]\n",
      " [0. 0. 0. 1.]]\n"
     ]
    }
   ],
   "source": [
    "eye=np.eye(4)\n",
    "print(eye)"
   ]
  },
  {
   "cell_type": "markdown",
   "id": "f7706251",
   "metadata": {},
   "source": [
    "Array With Evenly Space Value"
   ]
  },
  {
   "cell_type": "code",
   "execution_count": 14,
   "id": "25f7ba1d",
   "metadata": {},
   "outputs": [
    {
     "name": "stdout",
     "output_type": "stream",
     "text": [
      "[ 10  32  55  77 100]\n"
     ]
    }
   ],
   "source": [
    "spaceValue=np.linspace(10,100,5,dtype=int)\n",
    "print(spaceValue)"
   ]
  },
  {
   "cell_type": "markdown",
   "id": "95aff4a8",
   "metadata": {},
   "source": [
    "Array With Specifing the Step\n"
   ]
  },
  {
   "cell_type": "code",
   "execution_count": 19,
   "id": "937750f2",
   "metadata": {},
   "outputs": [
    {
     "name": "stdout",
     "output_type": "stream",
     "text": [
      "[10 20 30 40 50 60 70 80 90]\n"
     ]
    }
   ],
   "source": [
    "spaceValue=np.arange(10,100,10)\n",
    "print(spaceValue)"
   ]
  },
  {
   "cell_type": "markdown",
   "id": "9e232020",
   "metadata": {},
   "source": [
    "List to Numpy\n"
   ]
  },
  {
   "cell_type": "code",
   "execution_count": 21,
   "id": "d17fc34b",
   "metadata": {},
   "outputs": [
    {
     "name": "stdout",
     "output_type": "stream",
     "text": [
      "['1' '2' '3' '4' '5' '6' '78' 'english']\n"
     ]
    }
   ],
   "source": [
    "list=[1,2,3,4,5,6,78,'english']\n",
    "my_np_array=np.array(list)\n",
    "print(my_np_array)"
   ]
  },
  {
   "cell_type": "markdown",
   "id": "8097f4b5",
   "metadata": {},
   "source": [
    "Numpy Array Analysis"
   ]
  },
  {
   "cell_type": "code",
   "execution_count": 23,
   "id": "91407f2e",
   "metadata": {},
   "outputs": [
    {
     "name": "stdout",
     "output_type": "stream",
     "text": [
      "[[97 73 98 17 33 68 38 85 63 20]\n",
      " [96 96 32 62 76 63 90 97 82 25]\n",
      " [25 38 56 54 93 74 35 53 60 53]\n",
      " [24 33 16 84 33 58 63 49 36 95]\n",
      " [62 80 90 47 82 93 27 80 57 11]\n",
      " [10 71 53 22 27 82 43 43 57 83]\n",
      " [40 85 65 21 80 53 34 31 84 57]\n",
      " [47 55 13 33 71 11 75 33 57 18]\n",
      " [15 44 79 78 88 21 74 64 45 51]\n",
      " [32 55 88 19 64 82 72 53 75 42]]\n"
     ]
    }
   ],
   "source": [
    "randomArray=np.random.randint(10,100,(10,10))\n",
    "print(randomArray)"
   ]
  },
  {
   "cell_type": "code",
   "execution_count": 24,
   "id": "0fc59d0a",
   "metadata": {},
   "outputs": [
    {
     "name": "stdout",
     "output_type": "stream",
     "text": [
      "dimention : (10, 10)\n"
     ]
    }
   ],
   "source": [
    "print('dimention :',randomArray.shape)"
   ]
  },
  {
   "cell_type": "code",
   "execution_count": 25,
   "id": "193556f2",
   "metadata": {},
   "outputs": [
    {
     "name": "stdout",
     "output_type": "stream",
     "text": [
      "size : 100\n"
     ]
    }
   ],
   "source": [
    "print('size :',randomArray.size)"
   ]
  },
  {
   "cell_type": "code",
   "execution_count": 26,
   "id": "cce44fe0",
   "metadata": {},
   "outputs": [
    {
     "name": "stdout",
     "output_type": "stream",
     "text": [
      "ndim 2\n"
     ]
    }
   ],
   "source": [
    "print('ndim',randomArray.ndim)"
   ]
  },
  {
   "cell_type": "code",
   "execution_count": 27,
   "id": "44182bfe",
   "metadata": {},
   "outputs": [
    {
     "name": "stdout",
     "output_type": "stream",
     "text": [
      "type : <class 'numpy.ndarray'>\n"
     ]
    }
   ],
   "source": [
    "print('type :',type(randomArray))"
   ]
  },
  {
   "cell_type": "code",
   "execution_count": 28,
   "id": "875c7822",
   "metadata": {},
   "outputs": [
    {
     "name": "stdout",
     "output_type": "stream",
     "text": [
      "type : int32\n"
     ]
    }
   ],
   "source": [
    "print('type :',randomArray.dtype)"
   ]
  },
  {
   "cell_type": "code",
   "execution_count": 31,
   "id": "9d2262cc",
   "metadata": {},
   "outputs": [
    {
     "name": "stdout",
     "output_type": "stream",
     "text": [
      "[[7 3 3 7 9 3 4 6]\n",
      " [3 4 4 2 9 6 4 2]\n",
      " [6 7 3 3 5 2 2 2]\n",
      " [4 9 7 9 9 4 4 4]]\n",
      "[[7 3 3 7]\n",
      " [9 3 4 6]\n",
      " [3 4 4 2]\n",
      " [9 6 4 2]\n",
      " [6 7 3 3]\n",
      " [5 2 2 2]\n",
      " [4 9 7 9]\n",
      " [9 4 4 4]]\n"
     ]
    }
   ],
   "source": [
    "list=np.random.randint(1,10,(4,8))\n",
    "print(list)\n",
    "reshape=list.reshape(8,4)\n",
    "print(reshape)"
   ]
  },
  {
   "cell_type": "code",
   "execution_count": 32,
   "id": "00b990fa",
   "metadata": {},
   "outputs": [
    {
     "name": "stdout",
     "output_type": "stream",
     "text": [
      "[[4 6 6]\n",
      " [4 7 9]]\n",
      "[[4 4]\n",
      " [6 7]\n",
      " [6 9]]\n"
     ]
    }
   ],
   "source": [
    "list=list=np.random.randint(1,10,(2,3))\n",
    "print(list)\n",
    "transpose=np.transpose(list)\n",
    "print(transpose)"
   ]
  },
  {
   "cell_type": "markdown",
   "id": "35d1eff1",
   "metadata": {},
   "source": [
    "Mathmatical Operations\n"
   ]
  },
  {
   "cell_type": "code",
   "execution_count": 37,
   "id": "bcfafc7c",
   "metadata": {},
   "outputs": [
    {
     "name": "stdout",
     "output_type": "stream",
     "text": [
      "a : [[2 3 8]\n",
      " [2 5 3]\n",
      " [9 2 8]]\n",
      "b : [[3 3 7]\n",
      " [1 5 4]\n",
      " [8 6 1]]\n"
     ]
    }
   ],
   "source": [
    "a=np.random.randint(1,10,((3,3)))\n",
    "print('a :',a)\n",
    "b=np.random.randint(1,10,((3,3)))\n",
    "print('b :',b)"
   ]
  },
  {
   "cell_type": "code",
   "execution_count": 41,
   "id": "0a523728",
   "metadata": {},
   "outputs": [
    {
     "name": "stdout",
     "output_type": "stream",
     "text": [
      "a+b :\n",
      " [[ 5  6 15]\n",
      " [ 3 10  7]\n",
      " [17  8  9]] \n",
      "\n",
      "a-b :\n",
      " [[-1  0  1]\n",
      " [ 1  0 -1]\n",
      " [ 1 -4  7]] \n",
      "\n",
      "a*b :\n",
      " [[ 6  9 56]\n",
      " [ 2 25 12]\n",
      " [72 12  8]] \n",
      "\n",
      "a/b :\n",
      " [[0.66666667 1.         1.14285714]\n",
      " [2.         1.         0.75      ]\n",
      " [1.125      0.33333333 8.        ]] \n",
      "\n"
     ]
    }
   ],
   "source": [
    "print('a+b :\\n',np.add(a,b),'\\n')\n",
    "print('a-b :\\n',np.subtract(a,b),'\\n')\n",
    "print('a*b :\\n',np.multiply(a,b),'\\n')\n",
    "print('a/b :\\n',np.divide(a,b),'\\n')"
   ]
  },
  {
   "cell_type": "code",
   "execution_count": null,
   "id": "b5467522",
   "metadata": {},
   "outputs": [],
   "source": []
  }
 ],
 "metadata": {
  "kernelspec": {
   "display_name": "Python 3 (ipykernel)",
   "language": "python",
   "name": "python3"
  },
  "language_info": {
   "codemirror_mode": {
    "name": "ipython",
    "version": 3
   },
   "file_extension": ".py",
   "mimetype": "text/x-python",
   "name": "python",
   "nbconvert_exporter": "python",
   "pygments_lexer": "ipython3",
   "version": "3.11.3"
  }
 },
 "nbformat": 4,
 "nbformat_minor": 5
}
